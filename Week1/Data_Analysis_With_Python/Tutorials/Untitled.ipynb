{
 "cells": [
  {
   "cell_type": "markdown",
   "id": "b7c31e60",
   "metadata": {},
   "source": [
    "## Assumptions\n",
    "\n",
    "- Datatypes \n",
    "- Data structures\n",
    "- Boolean expressions\n",
    "- Function\n",
    "- Object oriented programming"
   ]
  }
 ],
 "metadata": {
  "kernelspec": {
   "display_name": "Python 3 (ipykernel)",
   "language": "python",
   "name": "python3"
  },
  "language_info": {
   "codemirror_mode": {
    "name": "ipython",
    "version": 3
   },
   "file_extension": ".py",
   "mimetype": "text/x-python",
   "name": "python",
   "nbconvert_exporter": "python",
   "pygments_lexer": "ipython3",
   "version": "3.10.9"
  }
 },
 "nbformat": 4,
 "nbformat_minor": 5
}
